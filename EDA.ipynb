{
  "nbformat": 4,
  "nbformat_minor": 0,
  "metadata": {
    "colab": {
      "provenance": []
    },
    "kernelspec": {
      "name": "python3",
      "display_name": "Python 3"
    },
    "language_info": {
      "name": "python"
    }
  },
  "cells": [
    {
      "cell_type": "code",
      "execution_count": null,
      "metadata": {
        "id": "rvDcuVXsDB2V"
      },
      "outputs": [],
      "source": [
        "1. What is the range of selling prices in the dataset\n",
        "Ans The range of selling prices in the dataset is ₹755,000."
      ]
    },
    {
      "cell_type": "markdown",
      "source": [
        "2.  What is the median selling price for bikes in the dataset\n",
        "Ans - The median selling price for bikes in the dataset is ₹45,000."
      ],
      "metadata": {
        "id": "-ghjWxF-DFIG"
      }
    },
    {
      "cell_type": "markdown",
      "source": [
        "3.  What is the most common seller type\n",
        "Ans - The most common seller type in the dataset is \"Individual\""
      ],
      "metadata": {
        "id": "wggrh3AlDcSU"
      }
    },
    {
      "cell_type": "markdown",
      "source": [
        "4. How many bikes have driven more than 50,000 kilometers\n",
        "Ans - 170 bikes have driven more than 50,000 kilometers."
      ],
      "metadata": {
        "id": "tJIKF-9NDwbN"
      }
    },
    {
      "cell_type": "markdown",
      "source": [
        "5.  What is the average km_driven value for each ownership type\n",
        "Ans - The average km_driven value for each ownership type is as follows:\n",
        "\n",
        "      1st owner: 32816.6 km\n",
        "      2nd owner: 39289.0 km\n",
        "      3rd owner: 33292.2 km\n",
        "      4th owner: 311500.0 km"
      ],
      "metadata": {
        "id": "PqeH4a4KEyEl"
      }
    },
    {
      "cell_type": "markdown",
      "source": [
        "6. What proportion of bikes are from the year 2015 or older\n",
        "Ans - The proportion of bikes from the year 2015 or older is 0.57 (or 57%)."
      ],
      "metadata": {
        "id": "SKcQ-vicFBJJ"
      }
    },
    {
      "cell_type": "markdown",
      "source": [
        "7. What is the trend of missing values across the dataset\n",
        "Ans - The ex_showroom_price column has a significant number of missing values, with 435 out of 1061 entries missing. This accounts for approximately 41% of the data in this column."
      ],
      "metadata": {
        "id": "0XhWhDA5FKWP"
      }
    },
    {
      "cell_type": "markdown",
      "source": [
        "8. What is the highest ex_showroom_price recorded, and for which bike\n",
        "Ans - The highest ex_showroom_price recorded is 1278000.0 for the bike: Harley-Davidson Street Bob."
      ],
      "metadata": {
        "id": "qGUnqaKGFbBH"
      }
    },
    {
      "cell_type": "markdown",
      "source": [
        "9. What is the total number of bikes listed by each seller type\n",
        "Ans - The total number of bikes listed by each seller type is as follows:\n",
        "Individual: 1055 bikes\n",
        "Dealer: 6 bikes"
      ],
      "metadata": {
        "id": "8mFuIfL0FmbD"
      }
    },
    {
      "cell_type": "markdown",
      "source": [
        "10. What is the relationship between selling_price and km_driven for first-owner bikes\n",
        "Ans - For first-owner bikes, the correlation between selling_price and km_driven is approximately −0.24.\n"
      ],
      "metadata": {
        "id": "P9bwP2x2F_X-"
      }
    },
    {
      "cell_type": "markdown",
      "source": [
        "11. Identify and remove outliers in the km_driven column using the IQR method"
      ],
      "metadata": {
        "id": "e-1SqvsYGbbe"
      }
    },
    {
      "cell_type": "code",
      "source": [
        "Q1 = df['km_driven'].quantile(0.25)\n",
        "Q3 = df['km_driven'].quantile(0.75)\n",
        "\n",
        "IQR = Q3 - Q1\n",
        "\n",
        "lower_bound = Q1 - 1.5 * IQR\n",
        "upper_bound = Q3 + 1.5 * IQR\n",
        "\n",
        "outliers = df[(df['km_driven'] < lower_bound) | (df['km_driven'] > upper_bound)]\n",
        "\n",
        "original_rows = df.shape[0]\n",
        "\n",
        "df_no_outliers = df[(df['km_driven'] >= lower_bound) & (df['km_driven'] <= upper_bound)]\n",
        "\n",
        "outliers_removed = original_rows - df_no_outliers.shape[0]\n",
        "\n",
        "print(f\"Original number of rows: {original_rows}\")\n",
        "print(f\"Number of outliers removed from 'km_driven': {outliers_removed}\")\n",
        "print(f\"Number of rows after outlier removal: {df_no_outliers.shape[0]}\")"
      ],
      "metadata": {
        "id": "7uR0oUbuHIZA"
      },
      "execution_count": null,
      "outputs": []
    },
    {
      "cell_type": "markdown",
      "source": [
        "12. Perform a bivariate analysis to visualize the relationship between year and selling_price\n"
      ],
      "metadata": {
        "id": "2ikMp0u1G_LQ"
      }
    },
    {
      "cell_type": "code",
      "source": [
        "import matplotlib.pyplot as plt\n",
        "import seaborn as sns\n",
        "\n",
        "plt.figure(figsize=(10, 6))\n",
        "sns.scatterplot(x='year', y='selling_price', data=df_no_outliers)\n",
        "plt.title('Relationship between Year and Selling Price')\n",
        "plt.xlabel('Year')\n",
        "plt.ylabel('Selling Price')\n",
        "plt.grid(True)\n",
        "plt.show()"
      ],
      "metadata": {
        "id": "uGW-L-I-HaE0"
      },
      "execution_count": null,
      "outputs": []
    },
    {
      "cell_type": "markdown",
      "source": [
        "13. What is the average depreciation in selling price based on the bike's age (current year - manufacturing year)\n",
        "Ans - The data shows bikes up to 19 years old, and they still exhibit significant average depreciation, confirming that older bikes have lost a substantial portion of their original value."
      ],
      "metadata": {
        "id": "9FVltMtFHcEK"
      }
    },
    {
      "cell_type": "markdown",
      "source": [
        "14.  Which bike names are priced significantly above the average price for their manufacturing year\n",
        "Ans -\n",
        "\n",
        " 1.   Suzuki GSX S750 (2019)\n",
        " 2.   Harley-Davidson Street Bob (2013)\n",
        " 3.   Kawasaki Ninja 650 [2018-2019] (2017)\n",
        "\n"
      ],
      "metadata": {
        "id": "VxHiguLWIMJQ"
      }
    },
    {
      "cell_type": "markdown",
      "source": [
        "15. Develop a correlation matrix for numeric columns and visualize it using a heatmap.\n"
      ],
      "metadata": {
        "id": "fmS3QPb9IuT3"
      }
    },
    {
      "cell_type": "code",
      "source": [
        "import matplotlib.pyplot as plt\n",
        "import seaborn as sns\n",
        "\n",
        "numeric_cols = df_no_outliers.select_dtypes(include=['int64', 'float64'])\n",
        "\n",
        "correlation_matrix = numeric_cols.corr()\n",
        "\n",
        "plt.figure(figsize=(8, 6))\n",
        "sns.heatmap(correlation_matrix, annot=True, cmap='coolwarm', fmt=\".2f\", linewidths=.5)\n",
        "plt.title('Correlation Matrix of Numeric Columns')\n",
        "plt.show()"
      ],
      "metadata": {
        "id": "N5DOl7ieIwyf"
      },
      "execution_count": null,
      "outputs": []
    },
    {
      "cell_type": "markdown",
      "source": [
        "                          EDA - 2"
      ],
      "metadata": {
        "id": "5-NLxDwGI67J"
      }
    },
    {
      "cell_type": "markdown",
      "source": [
        "1.What is the average selling price of cars for each dealer, and how does it compare across different dealers\n",
        "Ans - Wide Range of Average Prices: There is a considerable range in the average selling prices across different dealers. For instance, U-Haul CO has the highest average selling price at approximately 28769.9, while Buddy Storbeck's Diesel Service Inc is among the lower ones with an average of 27217.3\n"
      ],
      "metadata": {
        "id": "PLQeqkLNJCcZ"
      }
    },
    {
      "cell_type": "markdown",
      "source": [
        "2. Which car brand (Company) has the highest variation in prices, and what does this tell us about the pricing trends\n",
        "Ans - The car brand with the highest variation in prices is Lincoln, with a standard deviation of approximately $19658.05.\n",
        "Average Price Context: With an average price of approximately $31407.04 and a standard deviation of $19658.05, it implies that many Lincoln cars are priced significantly above or below this average, reflecting the brand's wide pricing spectrum."
      ],
      "metadata": {
        "id": "CCMH9sA_KWRl"
      }
    },
    {
      "cell_type": "markdown",
      "source": [
        "3. What is the distribution of car prices for each transmission type, and how do the interquartile ranges compare\n",
        "Ans - The table above shows the distribution of car prices for each transmission type (Auto and Manual), including the 25th percentile (Q1), median (Q2), 75th percentile (Q3), and the Interquartile Range (IQR)"
      ],
      "metadata": {
        "id": "ytESvnNGKoFU"
      }
    },
    {
      "cell_type": "markdown",
      "source": [
        "4. What is the distribution of car prices across different regions\n",
        "Ans -  Based on this dataset, the distribution of car prices (average, spread, and quartile ranges) appears to be quite uniform across the different dealer regions. While there are minor differences in the absolute minimum and maximum values, the overall pricing trends and typical car prices are largely consistent across the geographic areas represented."
      ],
      "metadata": {
        "id": "Z1uhcGoxLDfn"
      }
    },
    {
      "cell_type": "markdown",
      "source": [
        "5. What is the distribution of cars based on body styles\n",
        "Ans - * SUV is the most frequent body style in the dataset, accounting for approximately 26.66% of all cars.\n",
        "*  Hatchback is the second most common, closely following SUVs at about 25.63%.\n",
        "*  Sedan and Passenger cars represent a smaller but significant portion of the distribution, with 18.77% and 16.50% respectively.\n",
        "*  Hardtop is the least common body style in this dataset, making up about 12.43% of the cars."
      ],
      "metadata": {
        "id": "eoZkpTmYLYMr"
      }
    },
    {
      "cell_type": "markdown",
      "source": [
        "6. How does the average selling price of cars vary by customer gender and annual income\n",
        "Ans - Gender -   Female         Male\n",
        "Price ($)  -    28277.3       28039.4\n",
        "Income_Range- (-1109.921, 2248064.0]\t(2248064.0, 4486048.0]\t(4486048.0, 6724032.0]\t(6724032.0, 8962016.0](8962016.0, 11200000.0]\n",
        "Price ($) - 28044.4 , 29211.2 , 27736.7 , 40333.3 , 26001 .\n"
      ],
      "metadata": {
        "id": "B-BpqL-yLqgp"
      }
    },
    {
      "cell_type": "markdown",
      "source": [
        "7.  What is the distribution of car prices by region, and how does the number of cars sold vary by region\n",
        "Ans  -Austin has the highest number of cars sold with 4135 units, indicating it might be a larger market or a region with higher demand for cars.\n",
        "Janesville follows closely with 3821 cars sold.\n",
        "The remaining regions (Scottsdale, Pasco, Aurora, Middletown, and Greenville) have a fairly similar number of cars sold, ranging from approximately 3128 to 3433 units."
      ],
      "metadata": {
        "id": "6P3STJ2QNR7-"
      }
    },
    {
      "cell_type": "markdown",
      "source": [
        "8.  How does the average car price differ between cars with different engine sizes\n",
        "Ans - Cars with Double Overhead Camshaft engines have a slightly higher average selling price (28248.5) compared to cars with Overhead Camshaft engines (27914.7).\n",
        "The difference in average prices is relatively small (333.8), suggesting that while there is a distinction, the Engine type alone (as categorized in this dataset) does not lead to a drastic difference in the average selling price. Other factors likely play a more significant role in determining the car's price."
      ],
      "metadata": {
        "id": "NSpHhADZOMqX"
      }
    },
    {
      "cell_type": "markdown",
      "source": [
        "9.  How do car prices vary based on the customer’s annual income bracket\n",
        "Ans - The average car price varies across different annual income brackets as follows:\n",
        "* Lowest Income Bracket ($(-1109.921, 2248064.0]$): The average car price is approximately $28044.4.\n",
        "* Second Income Bracket ($(2248064.0, 4486048.0]$): The average car price is around $29211.2.\n",
        "* Third Income Bracket ($(4486048.0, 6724032.0]$): The average car price is about $27736.7.\n",
        "* Fourth Income Bracket ($(6724032.0, 8962016.0]$): This bracket shows a significantly higher average car price of approximately $40333.3.\n",
        "* Highest Income Bracket ($(8962016.0, 11200000.0]$): Interestingly, the average car price in this highest income bracket drops to about $26001."
      ],
      "metadata": {
        "id": "3hb3TPcUOYfc"
      }
    },
    {
      "cell_type": "markdown",
      "source": [
        "10.  What are the top 5 car models with the highest number of sales, and how does their price distribution look\n",
        "Ans -The five models are the most frequently sold, their pricing characteristics vary considerably. Models like Silhouette and Ram Pickup tend to be more expensive on average and exhibit a wider range of prices, possibly due to different trim levels, features, or market segments they cater to. Conversely, Passat and Prizm appear to have more consistent pricing structures."
      ],
      "metadata": {
        "id": "ZJMZht4ZOtem"
      }
    },
    {
      "cell_type": "markdown",
      "source": [
        "11. How does car price vary with engine size across different car colors, and which colors have the highest price variation\n",
        "Ans -  *Black Cars: Cars with 'Overhead Camshaft' engines in Black color have a significantly higher average price ($31733) compared to 'Double Overhead Camshaft' engines in Black (25766.5).\n",
        "* Pale White Cars: For 'Pale White' cars, those with 'Double Overhead Camshaft' engines are, on average, more expensive ($30348) than those with 'Overhead Camshaft' engines (24327.8).\n",
        "* Red Cars: 'Red' cars with 'Overhead Camshaft' engines ($30153.4) are slightly more expensive on average than those with 'Double Overhead Camshaft' engines (27434.4).\n"
      ],
      "metadata": {
        "id": "N22wv_azPCrx"
      }
    },
    {
      "cell_type": "markdown",
      "source": [
        "12.  Is there any seasonal trend in car sales based on the date of sale\n",
        "Ans - There is a clear seasonal trend in car sales, with sales being generally lower at the beginning of the year and significantly higher towards the end of the year, especially in September, November, and December."
      ],
      "metadata": {
        "id": "tVRa3tIfPXcB"
      }
    },
    {
      "cell_type": "markdown",
      "source": [
        "13.  How does the car price distribution change when considering different combinations of body style and transmission type\n",
        "Ans -  The car price distribution for different combinations of Body Style and Transmission type, including count, mean, standard deviation, and quartiles.\n",
        "Key Observations on Price Distribution by Body Style and Transmission:\n",
        "* Hardtop:\n",
        "Auto Hardtops have a higher average price ($31520.2) compared to Manual Hardtops ($27016.9).\n",
        "The price variability (standard deviation) is similar for both transmission types.\n",
        "* Hatchback:\n",
        "Manual Hatchbacks have a higher average price ($28702.6) and a larger standard deviation ($16284) than Auto Hatchbacks ($25910.5, std: $13144). This suggests a wider range of pricing for manual hatchbacks.\n",
        "* Passenger:\n",
        "Both Auto and Manual Passenger cars have very similar average prices ($28915.8 and $28969.5, respectively).\n",
        "Manual Passenger cars show a significantly higher standard deviation ($18523.7) compared to Auto Passenger cars ($13946.5), indicating greater price variability in manual passenger cars.\n",
        "* SUV:\n",
        "Auto SUVs have a slightly higher average price ($27501.4) than Manual SUVs ($26079).\n",
        "The standard deviation is also slightly higher for Manual SUVs ($14621.5) compared to Auto SUVs ($13299.9).\n",
        "* Sedan:\n",
        "Auto Sedans have a slightly higher average price ($29955.3) compared to Manual Sedans ($29664.3).\n",
        "* The standard deviation is also slightly higher for Manual Sedans ($15440.1) compared to Auto Sedans ($14310.9)."
      ],
      "metadata": {
        "id": "F5qzxaL-Pts_"
      }
    },
    {
      "cell_type": "markdown",
      "source": [
        "14. What is the correlation between car price, engine size, and annual income of customers, and how do these features interact\n",
        "Ans -  The relationships between car price, engine size, and annual income in this dataset are quite weak or not straightforwardly linear. Other factors, such as specific car models, brands, features, or market conditions, appear to play a more dominant role in determining car prices and customer purchasing behavior."
      ],
      "metadata": {
        "id": "NZk1otycQWlc"
      }
    },
    {
      "cell_type": "markdown",
      "source": [
        "15. How does the average car price vary across different car models and engine types?\n",
        "Ans - * Varying Price Differences by Engine Type\n",
        "* Model-Specific Pricing\n",
        "* Engine Availability\n",
        "* No Universal Rule for Engine Type"
      ],
      "metadata": {
        "id": "Nwqsi5VsQnOd"
      }
    },
    {
      "cell_type": "markdown",
      "source": [
        "                            EDA - 3"
      ],
      "metadata": {
        "id": "yVsFEhgTRFF4"
      }
    },
    {
      "cell_type": "markdown",
      "source": [
        "1.  What is the average rating for each product category\n",
        "Ans - The average ratings for product categories vary, with the highest average rating being 4.60 for 'Computers&Accessories|Tablets' and the lowest being 3.30 for 'Home&Kitchen|Kitchen&HomeAppliances|Coffee,Tea&Espresso|CoffeeGrinders|ElectricGrinders'."
      ],
      "metadata": {
        "id": "rtc3lWqwRMBH"
      }
    },
    {
      "cell_type": "markdown",
      "source": [
        "2.  What are the top rating_count products by category\n",
        "Ans - Here are the top products by rating count, categorized for brevity:\n",
        "* Car & Motorbike: Reffair AX30 [MAX] Portable Air Purifier (1,118 rating counts)\n",
        "* Computers & Accessories: Logitech C270 Digital HD Webcam (20,398 rating counts)\n",
        "* Electronics: SanDisk Ultra SDHC UHS-I Card (69,585 rating counts)\n",
        "* Health & Personal Care: Omron HN 372 Automatic Digital Weight Machine (6,030 rating counts)\n",
        "* Home & Kitchen: AGARO Supreme 1.6 Litres 1200 Watts Automatic Electric Kettle (2,563 rating counts)"
      ],
      "metadata": {
        "id": "biwQTUWqTBpN"
      }
    },
    {
      "cell_type": "markdown",
      "source": [
        "3. What is the distribution of discounted prices vs. actual prices\n",
        "Ans - Difference between Actual and Discounted Prices:\n",
        "\n",
        "*  The mean actual price is significantly higher than the mean discounted price (₹5444.99 vs. ₹3125.31), indicating a substantial average discount.\n",
        "*  Similarly, the median actual price is much higher than the median discounted price (₹1650.00 vs. ₹799.00)."
      ],
      "metadata": {
        "id": "vM5pDYcrTXJi"
      }
    },
    {
      "cell_type": "markdown",
      "source": [
        "4.  How does the average discount percentage vary across categories"
      ],
      "metadata": {
        "id": "uJn9nxV9T3pQ"
      }
    },
    {
      "cell_type": "code",
      "source": [
        "df['discounted_price'] = df['discounted_price'].str.replace('₹', '').str.replace(',', '')\n",
        "df['actual_price'] = df['actual_price'].str.replace('₹', '').str.replace(',', '')\n",
        "\n",
        "df['discounted_price'] = pd.to_numeric(df['discounted_price'], errors='coerce')\n",
        "df['actual_price'] = pd.to_numeric(df['actual_price'], errors='coerce')\n",
        "\n",
        "df['calculated_discount_percentage'] = ((df['actual_price'] - df['discounted_price']) / df['actual_price']) * 100\n",
        "df['calculated_discount_percentage'] = df['calculated_discount_percentage'].fillna(0)\n",
        "\n",
        "average_discount_per_category = df.groupby('category')['calculated_discount_percentage'].mean().sort_values(ascending=False)\n",
        "\n",
        "print(\"Average Discount Percentage per Category:\")\n",
        "print(average_discount_per_category)"
      ],
      "metadata": {
        "id": "hDj9xzutUIWT"
      },
      "execution_count": null,
      "outputs": []
    },
    {
      "cell_type": "markdown",
      "source": [
        "5. What are the most popular product names\n",
        "Ans - Here are the most popular product names from the data you provided:\n",
        "\n",
        "* AmazonBasics Flexible Premium HDMI Cables: These are popular cables for connecting devices to your TV or monitor.\n",
        "* boAt Bassheads 100 in-Ear Wired Earphones: These are popular wired headphones for listening to music.\n",
        "* Redmi 9 Activ and Redmi 9A Sport: These are popular smartphone models from Redmi"
      ],
      "metadata": {
        "id": "givdUISHUP9G"
      }
    },
    {
      "cell_type": "markdown",
      "source": [
        "6. What are the most popular product keywords\n",
        "Ans - The most popular product keywords, based on the analysis of the product_name, category, about_product, and review_title columns, are:\n",
        "\n",
        "*your: 1915\n",
        "*you: 1353\n",
        "*not: 988\n",
        "*can: 962\n",
        "*but: 674\n",
        "*use: 608\n",
        "*type: 595\n",
        "*power: 590\n",
        "*easy: 584\n",
        "*warranty: 582\n",
        "*black: 555\n",
        "*all: 555\n",
        "*compatible: 533\n",
        "*devices: 532\n",
        "*design: 528\n",
        "*water: 525\n",
        "*watch: 472\n",
        "*smart: 449\n",
        "*battery: 420\n",
        "*speed: 416"
      ],
      "metadata": {
        "id": "oNfVDuppU961"
      }
    },
    {
      "cell_type": "markdown",
      "source": [
        "7.  What are the most popular product reviews\n",
        "Ans - The most popular product reviews generally highlight positive experiences and product effectiveness.\n",
        "\n",
        "* Overall Positivity: Many reviews express general satisfaction, using words like \"good product,\" \"great,\" \"awesome,\" and \"excellent.\"\n",
        "* High Recommendation: Users frequently recommend the products, often calling them the \"best product.\"\n",
        "* Value for Money: A common theme is that products offer \"good value for money.\"\n",
        "* Ease of Use: Reviewers often praise products for being \"easy to use.\"\n",
        "* Functionality: The reviews indicate that products are \"functional and effective,\" with some mentioning \"fast charging\" for relevant electronic items.\n",
        "* Durability: Some popular reviews also point out the \"durability\" of the products"
      ],
      "metadata": {
        "id": "Cya-w0ByeDrW"
      }
    },
    {
      "cell_type": "markdown",
      "source": [
        "8. What is the correlation between discounted_price and rating\n",
        "Ans - The correlation between the discounted price and the product rating is approximately 0.114.\n",
        "This is a very weak positive correlation. It means that there is a slight tendency for products with higher discounted prices to also have slightly higher ratings, but this relationship is not strong at all. A correlation close to 0 suggests that the discounted price does not have a significant impact on the product's rating."
      ],
      "metadata": {
        "id": "9CaKRXnLenGg"
      }
    },
    {
      "cell_type": "markdown",
      "source": [
        "9. What are the Top 5 categories based on the highest ratings\n",
        "Ans - The Top 5 categories based on the highest average ratings are:\n",
        "\n",
        "* Computers&Accessories Tablets: 4.6\n",
        "* Computers&Accessories Networking,Devices NetworkAdapters PowerLANAdapters: 4.5\n",
        "* Electronics Cameras & Photograph Accessories Film: 4.5\n",
        "* Electronics HomeAudio|MediaStreamingDevices StreamingClients: 4.5\n",
        "* OfficeProducts OfficeElectronics Calculators Basic: 4.5"
      ],
      "metadata": {
        "id": "83sPup-We8XD"
      }
    },
    {
      "cell_type": "markdown",
      "source": [
        "10.  Identify any potential areas for improvement or optimization based on the data analysis.\n",
        "Ans - Based on the data analysis, here are potential areas for improvement and optimization:\n",
        "\n",
        "* Align Product Development with Popular Keywords: The analysis of popular keywords reveals what customers frequently search for and value\n",
        "* Address and Enhance Key Review Themes: The common positive themes in popular reviews (overall positivity, high recommendation, value for money, ease of use, functionality, and durability) provide a clear roadmap for product enhancement.\n",
        "* Rethink Discount-Only Strategies for Ratings: The very weak positive correlation between discounted price and rating (approximately 0.114) indicates that simply lowering prices does not significantly guarantee higher ratings.\n",
        "* Capitalize on High-Performing Categories: The analysis identified \"Computers&Accessories|Tablets\" and several specific electronics and office product subcategories as having the highest average ratings."
      ],
      "metadata": {
        "id": "rywOwepZfjgu"
      }
    },
    {
      "cell_type": "markdown",
      "source": [
        "                         **EDA - 4**"
      ],
      "metadata": {
        "id": "ZIpjmiMOgKK8"
      }
    },
    {
      "cell_type": "markdown",
      "source": [
        "1. Read the dataframe, check null value if present then do the needful, check duplicate row , if present then do the needful\n",
        "Ans -*  Null Values: There were no null values present in the dataset.\n",
        "* Duplicate Rows: I found 27 duplicate rows, which I have now removed.\n",
        "The DataFrame now has 413 rows and 5 columns, with no null values or duplicate rows."
      ],
      "metadata": {
        "id": "GfST5YbbgTHj"
      }
    },
    {
      "cell_type": "markdown",
      "source": [
        "2. What is the distribution of popularity among the tracks in the dataset? Visualize it using a histogram\n",
        "Ans - The distribution of popularity among the tracks in the dataset is visualized in the histogram above.\n",
        "\n",
        "From the histogram and the descriptive statistics:\n",
        "\n",
        "The popularity scores range from a minimum of 29 to a maximum of 97.\n",
        "The mean popularity score is approximately 75.38, with a standard deviation of 9.79.\n",
        "The distribution appears to be left-skewed, meaning there are more tracks with higher popularity scores than with lower scores.\n",
        "The majority of tracks fall within the popularity range of around 70 to 85, as indicated by the 25th percentile (70) and 75th percentile (82). The peak of the distribution is around the 75-80 popularity score, suggesting that a significant number of tracks have high popularity."
      ],
      "metadata": {
        "id": "ZMrs0eUmiKrP"
      }
    },
    {
      "cell_type": "markdown",
      "source": [
        "3. Is there any relationship between the popularity and the duration of tracks? Explore this using a scatter plot\n",
        "Ans - The correlation coefficient of 0.039 is very close to zero, which indicates a very weak to almost no linear relationship between a track's popularity and its duration. This means that whether a song is long or short does not significantly influence how popular it is."
      ],
      "metadata": {
        "id": "NkrxWNCBiabT"
      }
    },
    {
      "cell_type": "markdown",
      "source": [
        "4. Which artist has the highest number of tracks in the dataset? Display the count of tracks for each artist using a countplot\n",
        "Ans - The artist with the highest number of tracks in the dataset is Drake, with 17 tracks.\n",
        "\n",
        "The countplot above visualizes the number of tracks for the top 10 artists in the dataset. As you can see, Drake has the most tracks, followed by other popular artists, showcasing their representation in this Spotify dataset."
      ],
      "metadata": {
        "id": "IiXDxPTSiopu"
      }
    },
    {
      "cell_type": "markdown",
      "source": [
        "5.  What are the top 5 least popular tracks in the dataset? Provide the artist name and track name for each\n",
        "Ans - The top 5 least popular tracks in the dataset, along with their artists, are:\n",
        "*Artist: Pressa, Track: Attachments (feat. Coi Leray)\n",
        "*Artist: Justin Bieber, Track: Intentions\n",
        "*Artist: French Montana, Track: Splash Brothers\n",
        "*Artist: Lil Baby, Track: On Me - Remix\n",
        "*Artist: Wyclef Jean, Track: 911 (feat. Mary J. Blige)"
      ],
      "metadata": {
        "id": "P8wbP4wkjOPc"
      }
    },
    {
      "cell_type": "markdown",
      "source": [
        "6.Among the top 5 most popular artists, which artist has the highest popularity on average? Calculate and display the average popularity for each artist\n",
        "Ans - Among the top 5 artists with the most tracks in the dataset, here's their average popularity:\n",
        "* Eminem: 83.64\n",
        "* Drake: 82.88\n",
        "* Flo Rida: 78.00\n",
        "* Timbaland: 69.00\n",
        "* Ludacris: 63.00\n",
        "Based on these averages, Eminem has the highest average popularity with a score of 83.64."
      ],
      "metadata": {
        "id": "FqBcmMQGjf40"
      }
    },
    {
      "cell_type": "markdown",
      "source": [
        "7. For the top 5 most popular artists, what are their most popular tracks? List the track name for each artist\n",
        "Ans - For the top 5 artists (based on the highest number of tracks), here are their most popular tracks:\n",
        "* Artist: Drake, Most Popular Track: 'Rich Baby Daddy (feat. Sexyy Red & SZA)' (Popularity: 92)\n",
        "* Artist: Eminem, Most Popular Track: 'Without Me' (Popularity: 90)\n",
        "* Artist: Flo Rida, Most Popular Track: 'Low (feat. T-Pain)' (Popularity: 84)\n",
        "* Artist: Ludacris, Most Popular Track: 'My Chick Bad' (Popularity: 67)\n",
        "* Artist: Timbaland, Most Popular Track: 'The Way I Are' (Popularity: 85)"
      ],
      "metadata": {
        "id": "4jyLhHHXj16l"
      }
    },
    {
      "cell_type": "markdown",
      "source": [
        "8. Does the duration of tracks vary significantly across different artists? Explore this visually using a box plot or violin plot\n",
        "Ans - Yes, the duration of tracks does vary significantly across different artists.\n",
        "Each box represents the middle 50% of track durations for an artist, with the line inside being the median. The \"whiskers\" extend to show the full range of data, excluding outliers.\n",
        "We can observe clear differences in the median duration and the spread  of track durations among artists."
      ],
      "metadata": {
        "id": "TS-dFzz3kG24"
      }
    },
    {
      "cell_type": "markdown",
      "source": [
        "9. How does the distribution of track popularity vary for different artists? Visualize this using a swarm plot or a violin plot\n",
        "Ans - * Varying Popularity Ranges: Each \"violin\" represents the distribution of popularity scores for an individual artist. The width of the violin indicates the density of tracks at different popularity levels.\n",
        "* Differences in Median Popularity: The white dot inside each violin indicates the median popularity for that artist. We can see that median popularity varies * significantly across artists. For instance, artists like Drake and Eminem have a high median popularity, whereas others like Ludacris and Timbaland have lower medians.\n",
        "* Spread of Popularity: The length of the violin shows the range of popularity scores for an artist. Some artists  have a narrower, higher-popularly concentrated distribution, while others  show a wider spread, indicating a more diverse range of popularity among their tracks.\n",
        "* Density of Tracks at Specific Popularity Levels: The shape of the violin reveals where most of an artist's tracks fall in terms of popularity. For example, Drake and Eminem's violins are wider at higher popularity scores, suggesting a larger number of their tracks are highly popular.\n"
      ],
      "metadata": {
        "id": "jgbO60pMkjLz"
      }
    }
  ]
}